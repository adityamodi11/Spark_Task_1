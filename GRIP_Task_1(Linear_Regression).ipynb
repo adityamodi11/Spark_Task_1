{
  "nbformat": 4,
  "nbformat_minor": 0,
  "metadata": {
    "colab": {
      "name": "GRIP_Task_1(Linear Regression).ipynb",
      "provenance": []
    },
    "kernelspec": {
      "name": "python3",
      "display_name": "Python 3"
    },
    "language_info": {
      "name": "python"
    }
  },
  "cells": [
    {
      "cell_type": "markdown",
      "metadata": {
        "id": "yqp1p87fKoEB"
      },
      "source": [
        "# Aditya Modi\n",
        "\n",
        "* This is the the first task of GRIP. Here, We have to predict the percentage of an student based on the number of study hours.\n",
        "\n",
        "* We will be using univariate **Linear Regression** model."
      ]
    },
    {
      "cell_type": "markdown",
      "metadata": {
        "id": "KXJtYAe_K1Sh"
      },
      "source": [
        "## Importing Dependencies"
      ]
    },
    {
      "cell_type": "code",
      "metadata": {
        "id": "JTPqriiCKZz0"
      },
      "source": [
        "# importing all the libraries and classes\n",
        "import pandas as pd\n",
        "import numpy as np\n",
        "import matplotlib.pyplot as plt\n",
        "import seaborn as sns\n",
        "from sklearn.linear_model import LinearRegression\n",
        "from sklearn.model_selection import train_test_split\n",
        "from sklearn.metrics import mean_squared_error\n",
        "%matplotlib inline"
      ],
      "execution_count": 33,
      "outputs": []
    },
    {
      "cell_type": "markdown",
      "metadata": {
        "id": "7vDSCq7SLxoQ"
      },
      "source": [
        "## Loading & Exploring Data"
      ]
    },
    {
      "cell_type": "code",
      "metadata": {
        "id": "5pRSG2eVKh0H"
      },
      "source": [
        "# creating pandas DataFrame of the data \n",
        "url = 'https://raw.githubusercontent.com/AdiPersonalWorks/Random/master/student_scores%20-%20student_scores.csv'\n",
        "df = pd.read_csv(url)"
      ],
      "execution_count": 2,
      "outputs": []
    },
    {
      "cell_type": "code",
      "metadata": {
        "colab": {
          "base_uri": "https://localhost:8080/",
          "height": 203
        },
        "id": "Y8SGUH-fMCt-",
        "outputId": "732d738c-36fb-4a13-c823-5ae93711bc76"
      },
      "source": [
        "df.head()"
      ],
      "execution_count": 3,
      "outputs": [
        {
          "output_type": "execute_result",
          "data": {
            "text/html": [
              "<div>\n",
              "<style scoped>\n",
              "    .dataframe tbody tr th:only-of-type {\n",
              "        vertical-align: middle;\n",
              "    }\n",
              "\n",
              "    .dataframe tbody tr th {\n",
              "        vertical-align: top;\n",
              "    }\n",
              "\n",
              "    .dataframe thead th {\n",
              "        text-align: right;\n",
              "    }\n",
              "</style>\n",
              "<table border=\"1\" class=\"dataframe\">\n",
              "  <thead>\n",
              "    <tr style=\"text-align: right;\">\n",
              "      <th></th>\n",
              "      <th>Hours</th>\n",
              "      <th>Scores</th>\n",
              "    </tr>\n",
              "  </thead>\n",
              "  <tbody>\n",
              "    <tr>\n",
              "      <th>0</th>\n",
              "      <td>2.5</td>\n",
              "      <td>21</td>\n",
              "    </tr>\n",
              "    <tr>\n",
              "      <th>1</th>\n",
              "      <td>5.1</td>\n",
              "      <td>47</td>\n",
              "    </tr>\n",
              "    <tr>\n",
              "      <th>2</th>\n",
              "      <td>3.2</td>\n",
              "      <td>27</td>\n",
              "    </tr>\n",
              "    <tr>\n",
              "      <th>3</th>\n",
              "      <td>8.5</td>\n",
              "      <td>75</td>\n",
              "    </tr>\n",
              "    <tr>\n",
              "      <th>4</th>\n",
              "      <td>3.5</td>\n",
              "      <td>30</td>\n",
              "    </tr>\n",
              "  </tbody>\n",
              "</table>\n",
              "</div>"
            ],
            "text/plain": [
              "   Hours  Scores\n",
              "0    2.5      21\n",
              "1    5.1      47\n",
              "2    3.2      27\n",
              "3    8.5      75\n",
              "4    3.5      30"
            ]
          },
          "metadata": {},
          "execution_count": 3
        }
      ]
    },
    {
      "cell_type": "code",
      "metadata": {
        "colab": {
          "base_uri": "https://localhost:8080/"
        },
        "id": "hrWkguD9MFHH",
        "outputId": "e3a2d2b6-7c0f-46ab-8998-07fce834b9ca"
      },
      "source": [
        "df.info()"
      ],
      "execution_count": 4,
      "outputs": [
        {
          "output_type": "stream",
          "name": "stdout",
          "text": [
            "<class 'pandas.core.frame.DataFrame'>\n",
            "RangeIndex: 25 entries, 0 to 24\n",
            "Data columns (total 2 columns):\n",
            " #   Column  Non-Null Count  Dtype  \n",
            "---  ------  --------------  -----  \n",
            " 0   Hours   25 non-null     float64\n",
            " 1   Scores  25 non-null     int64  \n",
            "dtypes: float64(1), int64(1)\n",
            "memory usage: 528.0 bytes\n"
          ]
        }
      ]
    },
    {
      "cell_type": "code",
      "metadata": {
        "colab": {
          "base_uri": "https://localhost:8080/"
        },
        "id": "i5TdITxoNDqd",
        "outputId": "01bb5955-62e3-4327-b281-3f5470fe195c"
      },
      "source": [
        "df['Hours'].corr(df['Scores'])"
      ],
      "execution_count": 13,
      "outputs": [
        {
          "output_type": "execute_result",
          "data": {
            "text/plain": [
              "0.9761906560220887"
            ]
          },
          "metadata": {},
          "execution_count": 13
        }
      ]
    },
    {
      "cell_type": "code",
      "metadata": {
        "colab": {
          "base_uri": "https://localhost:8080/",
          "height": 406
        },
        "id": "byGYlIq6MVoA",
        "outputId": "a56751e4-f2cc-41c1-c557-ef0bf2faed43"
      },
      "source": [
        "# visualizing the distribution and relation between columns,\n",
        "fig,(ax1,ax2,ax3) = plt.subplots(1,3,figsize = (22,6))\n",
        "sns.histplot(df['Hours'],color = 'purple',ax= ax1)\n",
        "sns.regplot(x = 'Hours',y= 'Scores', data = df,marker= '+', color = 'red',ax=ax2)\n",
        "sns.histplot(df['Scores'],ax= ax3)"
      ],
      "execution_count": 35,
      "outputs": [
        {
          "output_type": "execute_result",
          "data": {
            "text/plain": [
              "<matplotlib.axes._subplots.AxesSubplot at 0x7f24d4ff6710>"
            ]
          },
          "metadata": {},
          "execution_count": 35
        },
        {
          "output_type": "display_data",
          "data": {
            "image/png": "[encoded data removed]",
            "text/plain": [
              "<Figure size 1584x432 with 3 Axes>"
            ]
          },
          "metadata": {
            "needs_background": "light"
          }
        }
      ]
    },
    {
      "cell_type": "markdown",
      "metadata": {
        "id": "jtzmoS9lQ60L"
      },
      "source": [
        "## Training Data & Predicting Score"
      ]
    },
    {
      "cell_type": "code",
      "metadata": {
        "id": "mEYEwvuLPBgl"
      },
      "source": [
        "# splitting the data into X and Y\n",
        "X = df[['Hours']]\n",
        "Y = df['Scores']\n",
        "\n",
        "X_train,X_test,Y_train,Y_test = train_test_split(X,Y,test_size = .2 , random_state = 1)"
      ],
      "execution_count": 38,
      "outputs": []
    },
    {
      "cell_type": "code",
      "metadata": {
        "id": "-kiJJjZHS3YK"
      },
      "source": [
        "# initializing and training linear regression model\n",
        "lr = LinearRegression()\n",
        "lr.fit(X_train,Y_train)\n",
        "predictions = lr.predict(X_test)"
      ],
      "execution_count": 40,
      "outputs": []
    },
    {
      "cell_type": "code",
      "metadata": {
        "colab": {
          "base_uri": "https://localhost:8080/",
          "height": 265
        },
        "id": "zq3YwkifS_LS",
        "outputId": "62c5d947-831f-4fde-c19c-69b33a622665"
      },
      "source": [
        "# finding slope and y_intercept of univariate model\n",
        "c = lr.intercept_\n",
        "m = lr.coef_\n",
        "\n",
        "# visualizing the univariate model.\n",
        "line = m*X + c\n",
        "plt.plot(X,line,c = 'r')\n",
        "plt.scatter(X,Y)\n",
        "plt.grid()\n",
        "plt.show()"
      ],
      "execution_count": 48,
      "outputs": [
        {
          "output_type": "display_data",
          "data": {
            "image/png": "[encoded data removed]",
            "text/plain": [
              "<Figure size 432x288 with 1 Axes>"
            ]
          },
          "metadata": {
            "needs_background": "light"
          }
        }
      ]
    },
    {
      "cell_type": "code",
      "metadata": {
        "colab": {
          "base_uri": "https://localhost:8080/"
        },
        "id": "xdjfkwEWVkFI",
        "outputId": "a5083fa8-f8b1-4e1c-b8e6-2c7eda145ec3"
      },
      "source": [
        "# predicting score for a input of hours\n",
        "x = float(input(\"Enter the number of hours: \"))\n",
        "pred = lr.predict([[x]])\n",
        "print(\"The predicted score is {0}\".format(pred))"
      ],
      "execution_count": 53,
      "outputs": [
        {
          "output_type": "stream",
          "name": "stdout",
          "text": [
            "Enter the number of hours: 5\n",
            "The predicted score is [50.76858414]\n"
          ]
        }
      ]
    },
    {
      "cell_type": "markdown",
      "metadata": {
        "id": "wzsAc-HgXKOj"
      },
      "source": [
        "## Evaluating The Model"
      ]
    },
    {
      "cell_type": "code",
      "metadata": {
        "colab": {
          "base_uri": "https://localhost:8080/"
        },
        "id": "rRJ8Ve2_Wsby",
        "outputId": "23bf3fde-61d2-4139-cf76-bbf38396e13a"
      },
      "source": [
        "# finding mse and rmse values\n",
        "mse = mean_squared_error(Y_test,predictions)\n",
        "rmse = np.sqrt(mse)\n",
        "print(\"mse: {0}  rmse: {1}\".format(mse,rmse))"
      ],
      "execution_count": 54,
      "outputs": [
        {
          "output_type": "stream",
          "name": "stdout",
          "text": [
            "mse: 68.88092074277635  rmse: 8.299453038771674\n"
          ]
        }
      ]
    },
    {
      "cell_type": "markdown",
      "metadata": {
        "id": "M8FT-7nKX0Hd"
      },
      "source": [
        "## Conclusion"
      ]
    },
    {
      "cell_type": "markdown",
      "metadata": {
        "id": "RqQPm5m_Xvdf"
      },
      "source": [
        "* We have trained and test the Linear Regression Model on a score vs marks data of the student.\n",
        "\n",
        "* The rmse obtained for the model is very low which is 8.299 .\n"
      ]
    }
  ]
}